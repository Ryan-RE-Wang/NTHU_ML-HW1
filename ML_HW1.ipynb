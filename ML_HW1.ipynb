{
  "nbformat": 4,
  "nbformat_minor": 0,
  "metadata": {
    "colab": {
      "name": "ML_HW1.ipynb",
      "provenance": [],
      "collapsed_sections": [],
      "include_colab_link": true
    },
    "kernelspec": {
      "name": "python3",
      "display_name": "Python 3"
    }
  },
  "cells": [
    {
      "cell_type": "markdown",
      "metadata": {
        "id": "view-in-github",
        "colab_type": "text"
      },
      "source": [
        "<a href=\"https://colab.research.google.com/github/Ryan-RE-Wang/NTHU_ML-HW1/blob/main/ML_HW1.ipynb\" target=\"_parent\"><img src=\"https://colab.research.google.com/assets/colab-badge.svg\" alt=\"Open In Colab\"/></a>"
      ]
    },
    {
      "cell_type": "markdown",
      "metadata": {
        "id": "qvmNREMiq2KJ"
      },
      "source": [
        "Get Data"
      ]
    },
    {
      "cell_type": "code",
      "metadata": {
        "id": "lfFGHhSq5B6B"
      },
      "source": [
        "import numpy as np\n",
        "import pandas as pd\n",
        "import matplotlib.pyplot as plt\n",
        "from sklearn import linear_model\n",
        "import csv\n",
        "\n",
        "df = pd.read_csv(\"data_1008.csv\")\n",
        "\n",
        "to_date = pd.to_datetime(df.pop(\"dateRep\"), format='%d/%m/%Y')\n",
        "df.index = to_date\n",
        "\n",
        "countries = []\n",
        "for i in range(len(df)):\n",
        "  name = df['countriesAndTerritories'][i]\n",
        "  if (countries.count(name) == 0):\n",
        "    countries.append(name)"
      ],
      "execution_count": null,
      "outputs": []
    },
    {
      "cell_type": "code",
      "metadata": {
        "id": "3p1rEznRjPJ7"
      },
      "source": [
        "# for creating csv file and TA testing\n",
        "\n",
        "def create_sequence(X, X_log):\n",
        "  offset = 7\n",
        "  x_train = X_log[offset:]\n",
        "  x_test = X_log[:offset]\n",
        "  y_train = X['cases'][:len(X)-7]\n",
        "  y_test = X['cases'][:offset]\n",
        "\n",
        "  return x_train, y_train, x_test, y_test"
      ],
      "execution_count": null,
      "outputs": []
    },
    {
      "cell_type": "code",
      "metadata": {
        "id": "sy6TZKi7YIWa"
      },
      "source": [
        "for training\n",
        "\n",
        "def create_sequence(X, X_log):\n",
        "  offset = 7\n",
        "  x_train = X_log[offset+7:]\n",
        "  x_test = X_log[offset:offset+7]\n",
        "  y_train = X['cases'][offset:len(X)-7]\n",
        "  y_test = X['cases'][:offset]\n",
        "\n",
        "  return x_train, y_train, x_test, y_test\n"
      ],
      "execution_count": null,
      "outputs": []
    },
    {
      "cell_type": "code",
      "metadata": {
        "id": "DENqgbb1409A"
      },
      "source": [
        "def preprocess(X):\n",
        "\n",
        "  X = X.fillna(0)\n",
        "\n",
        "  X['day-1'] = X['cases'].shift(-1)\n",
        "  \n",
        "  X = X.iloc[:40]\n",
        "\n",
        "  return X\n"
      ],
      "execution_count": null,
      "outputs": []
    },
    {
      "cell_type": "code",
      "metadata": {
        "id": "c_kyyXbYvVvk"
      },
      "source": [
        "def log_transform(X_train):\n",
        "  X_log = pd.DataFrame()\n",
        "\n",
        "  X_log['cases'] = np.log10(X_train['cases'] + 1 - X_train['cases'].min())\n",
        "  X_log['deaths'] = np.log10(X_train['deaths'] + 1 - X_train['deaths'].min())\n",
        "  X_log['Cumulative_number_for_14_days_of_COVID-19_cases_per_100000'] = np.log10(X_train['Cumulative_number_for_14_days_of_COVID-19_cases_per_100000'] + 1 - X_train['Cumulative_number_for_14_days_of_COVID-19_cases_per_100000'].min())\n",
        "\n",
        "  return X_log"
      ],
      "execution_count": null,
      "outputs": []
    },
    {
      "cell_type": "code",
      "metadata": {
        "id": "tcnSqA4cYFi6"
      },
      "source": [
        "def model(X_train, y_train, X_test, y_test):\n",
        "\n",
        "  regr = linear_model.LinearRegression()\n",
        "\n",
        "  regr.fit(X_train, y_train)\n",
        "\n",
        "  y_pred = regr.predict(X_test)\n",
        "\n",
        "  y_pred_ = np.round(np.array(y_pred))\n",
        "  Truth = np.array(y_test)\n",
        "\n",
        "  to_replace = 0 if (np.median(y_pred_) < 0) else np.median(y_pred_)\n",
        "  Predict = np.where(y_pred_ <= 0, to_replace, y_pred_)\n",
        "\n",
        "  mape = []\n",
        "\n",
        "  for i in range(len(Truth)):\n",
        "    if (Truth[i] > 0):\n",
        "      mape.append(np.abs(Truth[i]-Predict[i]) / np.abs(Truth[i]))\n",
        "    else:\n",
        "      mape.append(0)\n",
        "\n",
        "  return Predict, np.mean(mape) * 100"
      ],
      "execution_count": null,
      "outputs": []
    },
    {
      "cell_type": "code",
      "metadata": {
        "id": "AOtJiLT1XBkd"
      },
      "source": [
        "def test(Country):\n",
        "  da = df.loc[(df['countriesAndTerritories'] == Country)]\n",
        "  da = da.drop(['countriesAndTerritories', 'countryterritoryCode', 'geoId', 'continentExp', 'popData2019', 'year', 'month', 'day'], axis=1)\n",
        "  \n",
        "  da_log = log_transform(da)\n",
        "\n",
        "  da_log_ = preprocess(da_log)\n",
        "\n",
        "  da_ = preprocess(da)  \n",
        "\n",
        "  X_train, y_train, X_test, y_test = create_sequence(da_, da_log_)\n",
        "\n",
        "  Prediction, mape = model(X_train, y_train, X_test, y_test)\n",
        "\n",
        "  return Prediction[::-1], mape\n"
      ],
      "execution_count": null,
      "outputs": []
    },
    {
      "cell_type": "code",
      "metadata": {
        "id": "J58gz-V9rETh"
      },
      "source": [
        "# for write whole 210 countries to csv file\n",
        "\n",
        "row_country = [' ']\n",
        "row_0 = ['10/9']\n",
        "row_1 = ['10/10']\n",
        "row_2 = ['10/11']\n",
        "row_3 = ['10/12']\n",
        "row_4 = ['10/13']\n",
        "row_5 = ['10/14']\n",
        "row_6 = ['10/15']\n",
        "\n",
        "for i in countries:\n",
        "  row_country.append(i)\n",
        "  forcast, mape_score = test(i)\n",
        "\n",
        "  row_0.append(forcast[0])\n",
        "  row_1.append(forcast[1])\n",
        "  row_2.append(forcast[2])\n",
        "  row_3.append(forcast[3])\n",
        "  row_4.append(forcast[4])\n",
        "  row_5.append(forcast[5])\n",
        "  row_6.append(forcast[6])\n",
        "\n",
        "with open('covid-19_prediction.csv', 'a', encoding=\"ISO-8859-1\", newline='') as file:\n",
        "    wr = csv.writer(file)\n",
        "\n",
        "    wr.writerow(row_country)\n",
        "    wr.writerow(row_0)\n",
        "    wr.writerow(row_1)\n",
        "    wr.writerow(row_2)\n",
        "    wr.writerow(row_3)\n",
        "    wr.writerow(row_4)\n",
        "    wr.writerow(row_5)\n",
        "    wr.writerow(row_6)\n",
        "\n",
        "    file.close()"
      ],
      "execution_count": null,
      "outputs": []
    },
    {
      "cell_type": "code",
      "metadata": {
        "id": "uPIV0HEm_Ep3",
        "colab": {
          "base_uri": "https://localhost:8080/",
          "height": 34
        },
        "outputId": "a518703d-e7ec-4bb1-be62-a0d97b89666e"
      },
      "source": [
        "#Testing only one country\n",
        "\n",
        "country = 'Afghanistan'\n",
        "\n",
        "forcast, mape_score = test(country)\n",
        "\n",
        "print(forcast)"
      ],
      "execution_count": null,
      "outputs": [
        {
          "output_type": "stream",
          "text": [
            "[ 47.  54. 102.  69.  70.  58.  48.]\n"
          ],
          "name": "stdout"
        }
      ]
    },
    {
      "cell_type": "code",
      "metadata": {
        "id": "vkEWNOX10GKn"
      },
      "source": [
        ""
      ],
      "execution_count": null,
      "outputs": []
    }
  ]
}